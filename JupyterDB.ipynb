{
 "cells": [
  {
   "cell_type": "code",
   "execution_count": null,
   "id": "7c87307b",
   "metadata": {},
   "outputs": [],
   "source": [
    "import sqlite3\n",
    "import pandas as pd"
   ]
  },
  {
   "cell_type": "code",
   "execution_count": 5,
   "id": "51bebf7e",
   "metadata": {},
   "outputs": [],
   "source": [
    "def connectDB(db):\n",
    "    conn = sqlite3.connect('hotel-booking.db')\n",
    "    c = conn.cursor()\n",
    "    return conn, c"
   ]
  },
  {
   "cell_type": "code",
   "execution_count": 44,
   "id": "bf63f6a2",
   "metadata": {},
   "outputs": [],
   "source": [
    "def createTable(db,table):\n",
    "    c = connectDB(\"\")\n",
    "    c.execute(\"\"\"create table Hbooking(\n",
    "                 hotel_id text,\n",
    "                 booking_id text,\n",
    "                 agent_id text,\n",
    "                 phone text,\n",
    "                 no_of_nights integer,\n",
    "                 no_of_guests integer,\n",
    "                 booking_date date,\n",
    "                 photo_id object,\n",
    "                 booking_amount float,\n",
    "                 billed_amount float,\n",
    "                 room_charges float,\n",
    "                 food_charges float,\n",
    "                 tickets      float,\n",
    "                 other_charges float,\n",
    "                 last_name text,\n",
    "                 first_name text,\n",
    "                 payment_method text,\n",
    "                 booking_status text,\n",
    "                 refunded_amount float,\n",
    "                 rating_rooms integer,\n",
    "                 rating_food integer,\n",
    "                 rating_staff integer\n",
    "                 comments text \n",
    "                 )\"\"\")"
   ]
  },
  {
   "cell_type": "code",
   "execution_count": 45,
   "id": "7e57db37",
   "metadata": {},
   "outputs": [],
   "source": [
    "def commitDB(conn):\n",
    "    conn.commit()"
   ]
  },
  {
   "cell_type": "code",
   "execution_count": 18,
   "id": "899eddb9",
   "metadata": {},
   "outputs": [
    {
     "data": {
      "text/plain": [
       "<sqlite3.Cursor at 0x1fb0dea3ab0>"
      ]
     },
     "execution_count": 18,
     "metadata": {},
     "output_type": "execute_result"
    }
   ],
   "source": [
    "#c = connectDB(\"\")\n",
    "#c.execute(\"DROP TABLE Hbooking\")"
   ]
  },
  {
   "cell_type": "code",
   "execution_count": 19,
   "id": "524ff151",
   "metadata": {},
   "outputs": [],
   "source": [
    "#c = connectDB(\"\")\n",
    "#createTable(\"\",\"\")"
   ]
  },
  {
   "cell_type": "code",
   "execution_count": 6,
   "id": "c995e6a3",
   "metadata": {},
   "outputs": [],
   "source": [
    "def closeDBConnection(conn):\n",
    "    conn.close()"
   ]
  },
  {
   "cell_type": "code",
   "execution_count": 50,
   "id": "8b19c7da",
   "metadata": {},
   "outputs": [],
   "source": [
    "def bookingUpdate(request): \n",
    "    h_dict = {\n",
    "        \"hotel_id\":\"CDK001\",\n",
    "        \"booking_id\":\"0000_0000_01\",\n",
    "        \"agent_id\":\"A_OD_001\",\n",
    "        \"phone\":91919191919,\n",
    "        \"no_of_nights\":1,\n",
    "        \"no_of_guests\":2,\n",
    "        \"booking_date\":\"2023-04-30\",\n",
    "        \"photo_id\":\"\",\n",
    "        \"booking_amount\":10000.00,\n",
    "        \"billed_amount\":10000.00,\n",
    "        \"room_charges\":10000.00,\n",
    "        \"food_charges\":0.00,\n",
    "        \"tickets\":0.00,\n",
    "        \"other_charges\":0.00,\n",
    "        \"last_name\":\"LNA\",\n",
    "        \"first_name\":\"FNA\",\n",
    "        \"payment_method\":\"CC\",\n",
    "        \"booking_status\":\"Active\",\n",
    "        \"refunded_amount\":0.00,\n",
    "        \"rating_rooms\":5,\n",
    "        \"rating_food\":5,\n",
    "        \"rating_staff\":5,\n",
    "        \"comments\":\"Fantastic place.\"\n",
    "    }\n",
    "    print(connectDB(\"\"))\n",
    "    conn, c = connectDB(\"\")\n",
    "    print('connected...')\n",
    "    innsertDB(c,h_dict)\n",
    "    print('inserted...')\n",
    "    commitDB(conn)\n",
    "    print('commited...')\n",
    "    conn.close()\n",
    "    print('closed...')\n",
    "\n",
    "def innsertDB(c,h_dict):\n",
    "    v1 = h_dict['hotel_id']\n",
    "    v2 = h_dict['booking_id']\n",
    "    v3 = \"\"\n",
    "    v4 =  \"\"\n",
    "    v5 =  \"\"\n",
    "    v6 =  \"\"\n",
    "    v7 = \"\"\n",
    "    v8 = \"\"\n",
    "    v9 = \"\"\n",
    "    v10 = \"\"\n",
    "    v11 = \"\"\n",
    "    v12 = \"\"\n",
    "    v13 = \"\"\n",
    "    v14 = \"\"\n",
    "    v15 = \"\"\n",
    "    v16 = \"\"\n",
    "    v17 = \"\"\n",
    "    v18 = \"\"\n",
    "    v19 = \"\"\n",
    "    v20 = \"\"\n",
    "    v21 = \"\"\n",
    "    v22 = \"\"\n",
    "    v23 = \"\"\n",
    "    sqlstring = \"\"\"insert into Hbooking values (?,?,?,?,?,?,?,?,?,?,?,?,?,?,?,?,?,?,?,?,?,?)\"\"\"\n",
    "    c.execute(sqlstring, (v1,v2,v3,v4,v5,v6,v7,v8,v9,v10,v11,v12,v13,v14,v15,v16,v17,v18,v19,v20,v21,v22))"
   ]
  },
  {
   "cell_type": "code",
   "execution_count": 51,
   "id": "ecc63eff",
   "metadata": {},
   "outputs": [
    {
     "name": "stdout",
     "output_type": "stream",
     "text": [
      "(<sqlite3.Connection object at 0x000001FB0DEC87B0>, <sqlite3.Cursor object at 0x000001FB0DEA3DC0>)\n",
      "connected...\n",
      "inserted...\n",
      "commited...\n",
      "closed...\n"
     ]
    }
   ],
   "source": [
    "bookingUpdate(\"r\")"
   ]
  },
  {
   "cell_type": "code",
   "execution_count": 13,
   "id": "55909753",
   "metadata": {},
   "outputs": [],
   "source": [
    "def readSqlTable(conn,table):\n",
    "#!select * from Hbooking\n",
    "    conn, c = connectDB(\"\")\n",
    "    print('connected...')\n",
    "#    commitDB(conn)\n",
    "#    print('commited...')\n",
    "# Load the data into a DataFrame\n",
    "    booking_df = pd.read_sql_query(\"SELECT * from Hbooking\", conn)\n",
    "    print('Booking data...')\n",
    "    print(booking_df.iloc[:, 0:5])\n",
    "    #print(booking_df.iloc[:,0:-3])\n",
    "# Select only data for 2002\n",
    "#    surveys2002 = surveys_df[surveys_df.year == 2002]\n",
    "# Write the new DataFrame to a new SQLite table\n",
    "# surveys2002.to_sql(\"surveys2002\", con, if_exists=\"replace\")\n",
    "    conn.close()"
   ]
  },
  {
   "cell_type": "code",
   "execution_count": null,
   "id": "ed530753",
   "metadata": {},
   "outputs": [],
   "source": [
    "readSqlTable(\"\",\"\")"
   ]
  },
  {
   "cell_type": "code",
   "execution_count": null,
   "id": "f5245d40",
   "metadata": {},
   "outputs": [],
   "source": []
  }
 ],
 "metadata": {
  "kernelspec": {
   "display_name": "Python 3 (ipykernel)",
   "language": "python",
   "name": "python3"
  },
  "language_info": {
   "codemirror_mode": {
    "name": "ipython",
    "version": 3
   },
   "file_extension": ".py",
   "mimetype": "text/x-python",
   "name": "python",
   "nbconvert_exporter": "python",
   "pygments_lexer": "ipython3",
   "version": "3.10.9"
  }
 },
 "nbformat": 4,
 "nbformat_minor": 5
}
