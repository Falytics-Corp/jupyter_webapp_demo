{
 "cells": [
  {
   "cell_type": "code",
   "execution_count": 1,
   "id": "binding-glance",
   "metadata": {},
   "outputs": [],
   "source": [
    "import warnings\n",
    "warnings.filterwarnings('ignore')\n",
    "import ipywidgets as widgets\n",
    "from ipywidgets import Layout, Button, Box, Label\n",
    "from IPython.display import display, clear_output\n",
    "from IPython.display import Javascript"
   ]
  },
  {
   "cell_type": "code",
   "execution_count": 2,
   "id": "informal-powell",
   "metadata": {
    "scrolled": true
   },
   "outputs": [],
   "source": [
    "#!jupyter nbextension install --py plotlywidget --user\n",
    "#!jupyter nbextension enable plotlywidget --user --py\n",
    "#!jupyter nbextension enable --py widgetsnbextension --sys-prefix\n",
    "#!jupyter serverextension enable voila --sys-prefix"
   ]
  },
  {
   "cell_type": "markdown",
   "id": "4328fd6c",
   "metadata": {},
   "source": []
  },
  {
   "cell_type": "code",
   "execution_count": 3,
   "id": "50df9e57",
   "metadata": {},
   "outputs": [],
   "source": [
    "#1  !pip install widgetsnbextension\n",
    "#2  !pip install ipywidgets\n",
    "#3  !pip install voila"
   ]
  },
  {
   "cell_type": "code",
   "execution_count": 4,
   "id": "reflected-speaker",
   "metadata": {},
   "outputs": [
    {
     "data": {
      "text/html": [
       "<style>\n",
       ".slider_l{\n",
       "    width:60%;\n",
       "    background-color:transparent;\n",
       "}\n",
       ".box_style{\n",
       "    background-color:transparent;\n",
       "}\n",
       "</style>\n"
      ],
      "text/plain": [
       "<IPython.core.display.HTML object>"
      ]
     },
     "metadata": {},
     "output_type": "display_data"
    }
   ],
   "source": [
    "%%html\n",
    "<style>\n",
    ".slider_l{\n",
    "    width:60%;\n",
    "    background-color:transparent;\n",
    "}\n",
    ".box_style{\n",
    "    background-color:transparent;\n",
    "}\n",
    "</style>"
   ]
  },
  {
   "cell_type": "code",
   "execution_count": 5,
   "id": "reverse-belfast",
   "metadata": {},
   "outputs": [],
   "source": [
    "# grandson/granddaughter\n",
    "\n",
    "booking = widgets.Dropdown(\n",
    "            options=['Executive Bedroom with AC-1', 'Executive Bedroom with AC-2', 'Hall for group stay']\n",
    "        )"
   ]
  },
  {
   "cell_type": "code",
   "execution_count": 6,
   "id": "headed-bloom",
   "metadata": {},
   "outputs": [],
   "source": [
    "date = widgets.DatePicker(description='Pick a Date')"
   ]
  },
  {
   "cell_type": "code",
   "execution_count": 7,
   "id": "eccc8588",
   "metadata": {},
   "outputs": [],
   "source": [
    "phone = widgets.Text(description='mobile/cell')"
   ]
  },
  {
   "cell_type": "code",
   "execution_count": 8,
   "id": "naval-night",
   "metadata": {},
   "outputs": [
    {
     "data": {
      "application/vnd.jupyter.widget-view+json": {
       "model_id": "64600425716f425c91d9d5acd851f358",
       "version_major": 2,
       "version_minor": 0
      },
      "text/plain": [
       "IntSlider(value=1, max=10, min=1, style=SliderStyle(description_width='initial', handle_color='#18a085'), _dom…"
      ]
     },
     "metadata": {},
     "output_type": "display_data"
    }
   ],
   "source": [
    "# number of guests\n",
    "\n",
    "guests = widgets.IntSlider(\n",
    "            value=1, # default value\n",
    "            min=1, \n",
    "            max=10,\n",
    "            step=1,\n",
    "            style={'description_width': 'initial', 'handle_color': '#18a085'} \n",
    "        )\n",
    "guests.add_class(\"slider_l\")"
   ]
  },
  {
   "cell_type": "code",
   "execution_count": 9,
   "id": "4afe4aad",
   "metadata": {},
   "outputs": [
    {
     "data": {
      "application/vnd.jupyter.widget-view+json": {
       "model_id": "b0f9ecb1c1e14e399fc595c0859c2ba9",
       "version_major": 2,
       "version_minor": 0
      },
      "text/plain": [
       "IntSlider(value=1, max=10, min=1, style=SliderStyle(description_width='initial'), _dom_classes=('slider_l',))"
      ]
     },
     "metadata": {},
     "output_type": "display_data"
    }
   ],
   "source": [
    "# number of days\n",
    "\n",
    "nights = widgets.IntSlider(\n",
    "            value=1, # default value\n",
    "            min=1, \n",
    "            max=10,\n",
    "            step=1,\n",
    "            style={'description_width': 'initial', 'background_color': '#18a085'} \n",
    "        )\n",
    "nights.add_class(\"slider_l\")"
   ]
  },
  {
   "cell_type": "code",
   "execution_count": 10,
   "id": "thorough-royal",
   "metadata": {},
   "outputs": [],
   "source": [
    "# button send\n",
    "\n",
    "button_send = widgets.Button(\n",
    "                display='center',\n",
    "                margin='20px',\n",
    "                description='Book',\n",
    "                tooltip='Send',\n",
    "                justify='center',\n",
    "                align_items='left',\n",
    "                style={'description_width': 'initial'}\n",
    "            )\n",
    "button_send.style.button_color = '#90ee90' # or 'lightgreen' or 'rgb(144,238,144)'\n",
    "#layout='margin-right:5px'\n",
    "output = widgets.Output()\n",
    "\n",
    "def on_button_clicked(event):\n",
    "    with output:\n",
    "        clear_output()\n",
    "        print(\"Sent message: \")\n",
    "        print(f\"Dear Grandma! This is your favourite {grand.value}, {name.value}.\")\n",
    "        print(f\"I would love to come over on {date.value} for dinner, if that's okay for you!\")\n",
    "        print(f\"Also, if you don't mind, I'll bring along {friends.value} hungry ghosts for your delicious food!\")\n",
    "\n",
    "button_send.on_click(on_button_clicked)\n",
    "\n",
    "vbox_result = widgets.VBox([button_send, output])"
   ]
  },
  {
   "cell_type": "code",
   "execution_count": 11,
   "id": "guilty-ending",
   "metadata": {},
   "outputs": [],
   "source": [
    "# stacked right hand side\n",
    "text_null = widgets.HTML(value=\"<h1 style='color:rgb(223,87,30)'></h1>\")\n",
    "text_0 = widgets.HTML(value=\"<h1 style='color:rgb(223,87,30)'>Book your room</h1>\")\n",
    "text_1 = widgets.HTML(value=\"<h4>This is your favourite hotel.</h2>\")\n",
    "text_3= widgets.HTML(value=\"<h4>No.of nights</h4>\")\n",
    "text_4= widgets.HTML(value=\"<h4>No.of guests </h2>\")\n",
    "text_5= widgets.HTML(value=\"<h2>hungry ghosts for dinner, if that's okay for you!</h2>\")\n",
    "box_layout_lr = Layout(display='block',\n",
    "                    flex_flow='column',  \n",
    "                    align_items='stretch', \n",
    "                    border='0px solid blue',\n",
    "                    width='20%')\n",
    "box_layout_c = Layout(display='block',\n",
    "                    flex_flow='column',  \n",
    "                    align_items='stretch', \n",
    "                    border='3px solid transparent',\n",
    "                    color='rgb(23,66,34)',  \n",
    "                    width='60%')\n",
    "vbox_left = widgets.VBox([text_null],layout=box_layout_lr)\n",
    "vbox_left.layout.display = 'block'\n",
    "vbox_left.layout.flex_flow = 'column'\n",
    "vbox_left.layout.align_items = 'stretch'\n",
    "vbox_left.layout.width='33%'\n",
    "hbox1 = widgets.HBox([text_3,nights])\n",
    "hbox2 = widgets.HBox([text_4,guests])\n",
    "vbox_center = widgets.VBox([text_0,text_1,phone,hbox1,hbox2,date,booking, button_send],layout=box_layout_c)\n",
    "vbox_center.add_class(\"box_style\")\n",
    "vbox_right = widgets.VBox([text_null],layout=box_layout_lr)"
   ]
  },
  {
   "cell_type": "code",
   "execution_count": 12,
   "id": "earlier-saturday",
   "metadata": {},
   "outputs": [
    {
     "data": {
      "application/vnd.jupyter.widget-view+json": {
       "model_id": "f2f6b976f8f84bc58c560a678689f4a8",
       "version_major": 2,
       "version_minor": 0
      },
      "text/plain": [
       "HBox(children=(VBox(children=(HTML(value=\"<h1 style='color:rgb(223,87,30)'></h1>\"),), layout=Layout(align_item…"
      ]
     },
     "metadata": {},
     "output_type": "display_data"
    }
   ],
   "source": [
    "page = widgets.HBox([vbox_left,vbox_center,vbox_right])\n",
    "display(page)"
   ]
  },
  {
   "cell_type": "code",
   "execution_count": 13,
   "id": "according-supervisor",
   "metadata": {},
   "outputs": [],
   "source": [
    "#HBox([VBox(list_of_labels), VBox(list_of_sliders)])"
   ]
  },
  {
   "cell_type": "markdown",
   "id": "d57684c2",
   "metadata": {},
   "source": [
    "\n"
   ]
  },
  {
   "cell_type": "code",
   "execution_count": 14,
   "id": "8fd29bbb",
   "metadata": {},
   "outputs": [],
   "source": [
    "#!pip freeze requirements.txt"
   ]
  },
  {
   "cell_type": "code",
   "execution_count": null,
   "id": "9d5bb566",
   "metadata": {},
   "outputs": [],
   "source": []
  }
 ],
 "metadata": {
  "kernelspec": {
   "display_name": "Python 3 (ipykernel)",
   "language": "python",
   "name": "python3"
  },
  "language_info": {
   "codemirror_mode": {
    "name": "ipython",
    "version": 3
   },
   "file_extension": ".py",
   "mimetype": "text/x-python",
   "name": "python",
   "nbconvert_exporter": "python",
   "pygments_lexer": "ipython3",
   "version": "3.9.13"
  }
 },
 "nbformat": 4,
 "nbformat_minor": 5
}
