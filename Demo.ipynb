{
 "cells": [
  {
   "cell_type": "code",
   "execution_count": 1,
   "id": "ad4b3ff8",
   "metadata": {},
   "outputs": [
    {
     "name": "stdout",
     "output_type": "stream",
     "text": [
      " Mybinder\n"
     ]
    }
   ],
   "source": [
    "print( \" Mybinder\")"
   ]
  },
  {
   "cell_type": "code",
   "execution_count": 11,
   "id": "binding-glance",
   "metadata": {},
   "outputs": [],
   "source": [
    "import warnings\n",
    "warnings.filterwarnings('ignore')\n",
    "import ipywidgets as widgets\n",
    "from ipywidgets import Layout, Button, Box, Label\n",
    "from IPython.display import display, clear_output\n",
    "from IPython.display import Javascript\n",
    "import nbimporter\n",
    "import JupyterDB"
   ]
  },
  {
   "cell_type": "code",
   "execution_count": 12,
   "id": "39daa8ef",
   "metadata": {},
   "outputs": [],
   "source": [
    "#pip install nbimporter"
   ]
  },
  {
   "cell_type": "code",
   "execution_count": 16,
   "id": "5aaa749e",
   "metadata": {},
   "outputs": [
    {
     "name": "stdout",
     "output_type": "stream",
     "text": [
      "Name: nbimporter\n",
      "Version: 0.3.4\n",
      "Summary: Import IPython notebooks as modules\n",
      "Home-page: https://github.com/grst/nbimporter\n",
      "Author: Gregor Sturm\n",
      "Author-email: mail@gregor-sturm.de\n",
      "License: BSD 3-clause\n",
      "Location: c:\\users\\fricle\\anaconda3\\lib\\site-packages\n",
      "Requires: \n",
      "Required-by: \n",
      "Note: you may need to restart the kernel to use updated packages.\n"
     ]
    }
   ],
   "source": [
    "pip show nbimporter"
   ]
  },
  {
   "cell_type": "code",
   "execution_count": 3,
   "id": "informal-powell",
   "metadata": {
    "scrolled": true
   },
   "outputs": [],
   "source": [
    "#!jupyter nbextension install --py plotlywidget --user\n",
    "#!jupyter nbextension enable plotlywidget --user --py\n",
    "#!jupyter nbextension enable --py widgetsnbextension --sys-prefix\n",
    "#!jupyter serverextension enable voila --sys-prefix"
   ]
  },
  {
   "cell_type": "markdown",
   "id": "4328fd6c",
   "metadata": {},
   "source": []
  },
  {
   "cell_type": "code",
   "execution_count": 4,
   "id": "50df9e57",
   "metadata": {},
   "outputs": [],
   "source": [
    "#1  !pip install widgetsnbextension\n",
    "#2  !pip install ipywidgets\n",
    "#3  !pip install voila"
   ]
  },
  {
   "cell_type": "code",
   "execution_count": 5,
   "id": "reflected-speaker",
   "metadata": {},
   "outputs": [
    {
     "data": {
      "text/html": [
       "<style>\n",
       ".slider_l{\n",
       "    width:60%;\n",
       "    background-color:transparent;\n",
       "}\n",
       ".box_style{\n",
       "    background-color:transparent;\n",
       "    width:40%;\n",
       ".jupyter-widgets.widget-tab > .p-TabBar .p-TabBar-tab {\n",
       "    flex: 0 1 300px\n",
       "}\n",
       "}\n",
       "</style>\n"
      ],
      "text/plain": [
       "<IPython.core.display.HTML object>"
      ]
     },
     "metadata": {},
     "output_type": "display_data"
    }
   ],
   "source": [
    "%%html\n",
    "<style>\n",
    ".slider_l{\n",
    "    width:60%;\n",
    "    background-color:transparent;\n",
    "}\n",
    ".box_style{\n",
    "    background-color:transparent;\n",
    "    width:40%;\n",
    ".jupyter-widgets.widget-tab > .p-TabBar .p-TabBar-tab {\n",
    "    flex: 0 1 300px\n",
    "}\n",
    "}\n",
    "</style>"
   ]
  },
  {
   "cell_type": "code",
   "execution_count": 6,
   "id": "reverse-belfast",
   "metadata": {},
   "outputs": [],
   "source": [
    "# grandson/granddaughter\n",
    "\n",
    "booking = widgets.Dropdown(\n",
    "            options=['Executive Bedroom with AC-1', 'Executive Bedroom with AC-2', 'Hall for group stay']\n",
    "        )"
   ]
  },
  {
   "cell_type": "code",
   "execution_count": 7,
   "id": "headed-bloom",
   "metadata": {},
   "outputs": [],
   "source": [
    "date = widgets.DatePicker(description='Pick a Date')"
   ]
  },
  {
   "cell_type": "code",
   "execution_count": 8,
   "id": "eccc8588",
   "metadata": {},
   "outputs": [],
   "source": [
    "phone = widgets.IntText(\n",
    "    value=9876543210,\n",
    "    description='Mobile N:',\n",
    "    disabled=False\n",
    ")"
   ]
  },
  {
   "cell_type": "code",
   "execution_count": 9,
   "id": "5e462852",
   "metadata": {},
   "outputs": [],
   "source": [
    "first_name = widgets.Text(\n",
    "    value='',\n",
    "    description='First name',\n",
    "    disabled=False\n",
    ")"
   ]
  },
  {
   "cell_type": "code",
   "execution_count": 10,
   "id": "8c682665",
   "metadata": {},
   "outputs": [],
   "source": [
    "last_name = widgets.Text(\n",
    "    value='',\n",
    "    description='Last name',\n",
    "    disabled=False,\n",
    ")"
   ]
  },
  {
   "cell_type": "code",
   "execution_count": 11,
   "id": "naval-night",
   "metadata": {},
   "outputs": [],
   "source": [
    "# number of guests\n",
    "\n",
    "guests = widgets.IntSlider(\n",
    "            value=1, # default value\n",
    "            min=1, \n",
    "            max=10,\n",
    "            step=1,\n",
    "            style={'description_width': 'initial', 'handle_color': '#18a085'} \n",
    "        )\n"
   ]
  },
  {
   "cell_type": "code",
   "execution_count": 12,
   "id": "4afe4aad",
   "metadata": {},
   "outputs": [],
   "source": [
    "# number of days\n",
    "\n",
    "nights = widgets.IntSlider(\n",
    "            value=1, # default value\n",
    "            min=1, \n",
    "            max=10,\n",
    "            step=1,\n",
    "            style={'description_width': 'initial', 'background_color': '#18a085'} \n",
    "        )\n"
   ]
  },
  {
   "cell_type": "code",
   "execution_count": 13,
   "id": "thorough-royal",
   "metadata": {},
   "outputs": [],
   "source": [
    "# buttons \n",
    "button_verify = widgets.Button(\n",
    "                display='right',\n",
    "                margin='20px',\n",
    "                description='verify phone',\n",
    "                tooltip='Send',\n",
    "                justify='center',\n",
    "                align_items='left',\n",
    "                style={'description_width': 'initial'}\n",
    "            )\n",
    "button_verify.style.button_color ='rgb(144,255,144)'\n",
    "button_send = widgets.Button(\n",
    "                display='center',\n",
    "                margin='20px',\n",
    "                description='next',\n",
    "                tooltip='Send',\n",
    "                justify='center',\n",
    "                align_items='center',\n",
    "                style={'description_width': 'initial'}\n",
    "            )\n",
    "button_send.style.button_color = '#90ee90' # or 'lightgreen' or 'rgb(144,238,144)'\n",
    "button_checkout = widgets.Button(\n",
    "                display='center',\n",
    "                margin='20px',\n",
    "                description='checkout',\n",
    "                tooltip='checkout',\n",
    "                justify='center',\n",
    "                align_items='center',\n",
    "                style={'description_width': 'initial'}\n",
    "            )\n",
    "button_checkout.style.button_color = '#90ee90' # or 'lightgreen' or 'rgb(144,238,144)'\n",
    "#layout='margin-right:5px'\n",
    "output = widgets.Output()\n",
    "\n",
    "def on_button_clicked(event):\n",
    "    JupyterDB.bookingUpdate(\"H\")\n",
    "    next_tab(1)\n",
    "def next_tab(index):\n",
    "    tab.selected_index = index\n",
    "button_send.on_click(on_button_clicked)\n",
    "\n",
    "vbox_result = widgets.VBox([button_send, output])"
   ]
  },
  {
   "cell_type": "code",
   "execution_count": 14,
   "id": "adc88fae",
   "metadata": {},
   "outputs": [],
   "source": [
    "checkbox = widgets.Checkbox(\n",
    "           description='Check if you have read terms and condtions.',)"
   ]
  },
  {
   "cell_type": "code",
   "execution_count": 15,
   "id": "bdee8ac3",
   "metadata": {},
   "outputs": [],
   "source": [
    "radio = widgets.RadioButtons(\n",
    "        options=['male', 'female'],\n",
    "        description='Gender',\n",
    "        disabled=False\n",
    "       )"
   ]
  },
  {
   "cell_type": "code",
   "execution_count": 16,
   "id": "38c09d1d",
   "metadata": {},
   "outputs": [],
   "source": [
    "upload_file = widgets.FileUpload(\n",
    "                                 accept='',  # Accepted file extension e.g. '.txt', '.pdf', 'image/*', 'image/*,.pdf'\n",
    "                                 multiple=False  # True to accept multiple files upload else False\n",
    "              )"
   ]
  },
  {
   "cell_type": "code",
   "execution_count": 17,
   "id": "321e5869",
   "metadata": {},
   "outputs": [],
   "source": [
    "text_null = widgets.HTML(value=\"<t1 style='color:rgb(223,87,30)'></t1>\")\n",
    "title= widgets.HTML(value=\"<t1 style='color:rgb(223,187,0);font-size:25px'>CHANDAKA, guest house</t1>\")\n",
    "town= widgets.HTML(value=\"<h4 style='color:rgb(2,17,10)'>BHUBANESWAR</h4>\")\n",
    "text_0 = widgets.HTML(value=\"<h2 style='color:rgb(223,87,30)'>Book your room</h2>\")\n",
    "text_1 = widgets.HTML(value=\"<h6>Mobile phone verification required.</h6>\")\n",
    "text_3= widgets.HTML(value=\"<h4>Number of nights</h4>\")\n",
    "text_4= widgets.HTML(value=\"<h4>Number of guests </h2>\")\n",
    "text_5= widgets.HTML(value=\"<h2>hungry ghosts for dinner, if that's okay for you!</h2>\")\n",
    "text_6= widgets.widgets.HTML(value=\"<h4>First name</h4>\")\n",
    "text_6= widgets.widgets.HTML(value=\"<h5>Upload copy DL/adhar/passport in jpeg or png or jpg format</h5>\")"
   ]
  },
  {
   "cell_type": "code",
   "execution_count": 18,
   "id": "9d77b02c",
   "metadata": {},
   "outputs": [],
   "source": [
    "box_layout_lr = Layout(display='block',\n",
    "                    flex_flow='column',  \n",
    "                    align_items='stretch', \n",
    "                    border='0px solid blue',\n",
    "                    width='30%')\n",
    "box_layout_c = Layout(display='block',\n",
    "                    flex_flow='column',  \n",
    "                    align_items='stretch', \n",
    "                    border='3px solid transparent',\n",
    "                    color='rgb(23,66,34)',  \n",
    "                    width='40%')\n",
    "text_null = widgets.HTML(value=\"<h1 style='color:rgb(223,87,30)'></h1>\")\n",
    "\n",
    "#VBox = widgets.VBox([text_null],layout=box_layout_lr)\n",
    "tab1 = widgets.VBox(children=[title,town,text_0,text_1,phone,button_verify,text_3,nights,text_4,guests,date,booking, button_send])\n",
    "tab2 = widgets.VBox(children=[radio,checkbox,first_name, last_name, text_6,upload_file,button_checkout])\n",
    "tab3 = widgets.VBox(children=[widgets.Text()])\n",
    "tab4 = widgets.VBox(children=[widgets.Text()])\n",
    "tab = widgets.Tab(children=[tab1,tab2,tab3,tab4])\n",
    "tab.add_class(\"box_style\")\n",
    "# setting the tab windows \n",
    "# changing the title of the first and second window\n",
    "tab.set_title(0, 'Booking')\n",
    "tab.set_title(1, '+info')\n",
    "tab.set_title(2, 'Checkout')\n",
    "tab.set_title(3, 'Support')"
   ]
  },
  {
   "cell_type": "code",
   "execution_count": 19,
   "id": "guilty-ending",
   "metadata": {},
   "outputs": [],
   "source": [
    "# stacked right hand side\n",
    "\n",
    "\n",
    "vbox_left = widgets.VBox([text_null],layout=box_layout_lr)\n",
    "vbox_left.layout.display = 'block'\n",
    "vbox_left.layout.flex_flow = 'column'\n",
    "vbox_left.layout.align_items = 'stretch'\n",
    "vbox_left.layout.width='25%'\n",
    "hbox1 = widgets.HBox([text_3,nights])\n",
    "hbox2 = widgets.HBox([text_4,guests])\n",
    "vbox_center = widgets.VBox([tab,text_0,text_1,phone,radio,text_3,nights,text_4,guests,date,booking,checkbox, button_send],layout=box_layout_c)\n",
    "vbox_center.add_class(\"box_style\")\n",
    "vbox_right = widgets.VBox([text_null],layout=box_layout_lr)"
   ]
  },
  {
   "cell_type": "code",
   "execution_count": 20,
   "id": "earlier-saturday",
   "metadata": {},
   "outputs": [
    {
     "data": {
      "application/vnd.jupyter.widget-view+json": {
       "model_id": "0af6e81c4f844d5388db0fadcfa0c8ff",
       "version_major": 2,
       "version_minor": 0
      },
      "text/plain": [
       "HBox(children=(VBox(children=(HTML(value=\"<h1 style='color:rgb(223,87,30)'></h1>\"),), layout=Layout(align_item…"
      ]
     },
     "metadata": {},
     "output_type": "display_data"
    },
    {
     "name": "stdout",
     "output_type": "stream",
     "text": [
      "(<sqlite3.Connection object at 0x000001395B867B40>, <sqlite3.Cursor object at 0x000001395BA0EB40>)\n",
      "connected...\n",
      "inserted...\n",
      "commited...\n",
      "closed...\n"
     ]
    }
   ],
   "source": [
    "page = widgets.HBox([vbox_left,tab,vbox_right])\n",
    "#page = widgets.HBox([vbox_left,vbox_center,vbox_right])\n",
    "display(page)"
   ]
  },
  {
   "cell_type": "code",
   "execution_count": 21,
   "id": "according-supervisor",
   "metadata": {},
   "outputs": [],
   "source": [
    "#HBox([VBox(list_of_labels), VBox(list_of_sliders)])"
   ]
  },
  {
   "cell_type": "markdown",
   "id": "d57684c2",
   "metadata": {},
   "source": [
    "\n"
   ]
  },
  {
   "cell_type": "code",
   "execution_count": 22,
   "id": "8fd29bbb",
   "metadata": {},
   "outputs": [],
   "source": [
    "!pip freeze requirements.txt > requirements.txt"
   ]
  },
  {
   "cell_type": "code",
   "execution_count": 24,
   "id": "5157b823",
   "metadata": {},
   "outputs": [],
   "source": [
    "#$ pipreqsnb"
   ]
  },
  {
   "cell_type": "code",
   "execution_count": null,
   "id": "9d5bb566",
   "metadata": {},
   "outputs": [],
   "source": [
    "#pip install nbimporter\n",
    "#!pip install nbimporter"
   ]
  },
  {
   "cell_type": "code",
   "execution_count": null,
   "id": "7943f77f",
   "metadata": {},
   "outputs": [],
   "source": [
    "#conda list -e > requirements.txt"
   ]
  },
  {
   "cell_type": "code",
   "execution_count": null,
   "id": "9e355009",
   "metadata": {},
   "outputs": [],
   "source": []
  },
  {
   "cell_type": "code",
   "execution_count": null,
   "id": "3522cb75",
   "metadata": {},
   "outputs": [],
   "source": []
  },
  {
   "cell_type": "code",
   "execution_count": null,
   "id": "aa350da1",
   "metadata": {},
   "outputs": [],
   "source": []
  }
 ],
 "metadata": {
  "kernelspec": {
   "display_name": "Python 3 (ipykernel)",
   "language": "python",
   "name": "python3"
  },
  "language_info": {
   "codemirror_mode": {
    "name": "ipython",
    "version": 3
   },
   "file_extension": ".py",
   "mimetype": "text/x-python",
   "name": "python",
   "nbconvert_exporter": "python",
   "pygments_lexer": "ipython3",
   "version": "3.10.9"
  }
 },
 "nbformat": 4,
 "nbformat_minor": 5
}
