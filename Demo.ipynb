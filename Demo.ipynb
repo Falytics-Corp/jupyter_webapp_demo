{
 "cells": [
  {
   "cell_type": "code",
   "execution_count": 1,
   "id": "binding-glance",
   "metadata": {},
   "outputs": [],
   "source": [
    "import warnings\n",
    "warnings.filterwarnings('ignore')\n",
    "\n",
    "import ipywidgets as widgets\n",
    "from ipywidgets import Layout, Button, Box, Label\n",
    "from IPython.display import display, clear_output"
   ]
  },
  {
   "cell_type": "code",
   "execution_count": 2,
   "id": "informal-powell",
   "metadata": {
    "scrolled": true
   },
   "outputs": [],
   "source": [
    "#!jupyter nbextension install --py plotlywidget --user\n",
    "#!jupyter nbextension enable plotlywidget --user --py\n",
    "#!jupyter nbextension enable --py widgetsnbextension --sys-prefix\n",
    "#!jupyter serverextension enable voila --sys-prefix"
   ]
  },
  {
   "cell_type": "markdown",
   "id": "4328fd6c",
   "metadata": {},
   "source": [
    "## Install these three important pythin packages"
   ]
  },
  {
   "cell_type": "code",
   "execution_count": 3,
   "id": "50df9e57",
   "metadata": {},
   "outputs": [],
   "source": [
    "#1  !pip install widgetsnbextension\n",
    "#2  !pip install ipywidgets\n",
    "#3  !pip install voila"
   ]
  },
  {
   "cell_type": "code",
   "execution_count": 4,
   "id": "reflected-speaker",
   "metadata": {},
   "outputs": [],
   "source": [
    "# Image Widget\n",
    "\n",
    "#file = open(r\"C:\\Users\\fricle\\Pictures\\IMG956485.jpg\", \"rb\")\n",
    "#image = file.read()\n",
    "\n",
    "#image_headline = widgets.Image(\n",
    "#                    value=image,\n",
    "#                    format='jpg',\n",
    "#                    width='300'\n",
    "#                )\n",
    "#\n",
    "#label_headline = widgets.Label(\n",
    "#                    value='Photo by CDC on Unsplash',\n",
    "#                    style={'description_width': 'initial'}\n",
    "#                )\n",
    "#\n",
    "#vbox_headline = widgets.VBox([image_headline, label_headline])"
   ]
  },
  {
   "cell_type": "code",
   "execution_count": 5,
   "id": "reverse-belfast",
   "metadata": {},
   "outputs": [],
   "source": [
    "# grandson/granddaughter\n",
    "\n",
    "booking = widgets.Dropdown(\n",
    "            options=['Executive Bedroom with AC-1', 'Executive Bedroom with AC-2', 'Hall for group stay']\n",
    "        )"
   ]
  },
  {
   "cell_type": "code",
   "execution_count": 6,
   "id": "headed-bloom",
   "metadata": {},
   "outputs": [],
   "source": [
    "date = widgets.DatePicker(description='Pick a Date')"
   ]
  },
  {
   "cell_type": "code",
   "execution_count": 7,
   "id": "naval-night",
   "metadata": {},
   "outputs": [],
   "source": [
    "# number of guests\n",
    "\n",
    "guests = widgets.IntSlider(\n",
    "            value=1, # default value\n",
    "            min=1, \n",
    "            max=10,\n",
    "            step=1,\n",
    "            style={'description_width': 'initial', 'handle_color': '#18a085'} \n",
    "        )"
   ]
  },
  {
   "cell_type": "code",
   "execution_count": 8,
   "id": "4afe4aad",
   "metadata": {},
   "outputs": [],
   "source": [
    "# number of days\n",
    "\n",
    "nights = widgets.IntSlider(\n",
    "            value=1, # default value\n",
    "            min=1, \n",
    "            max=10,\n",
    "            step=1,\n",
    "            style={'description_width': 'initial', 'background_color': '#18a085'} \n",
    "        )"
   ]
  },
  {
   "cell_type": "code",
   "execution_count": 9,
   "id": "thorough-royal",
   "metadata": {},
   "outputs": [],
   "source": [
    "# button send\n",
    "\n",
    "button_send = widgets.Button(\n",
    "                description='Book',\n",
    "                tooltip='Send',\n",
    "                style={'description_width': 'initial'}\n",
    "            )\n",
    "button_send.style.button_color = '#90ee90' # or 'lightgreen' or 'rgb(144,238,144)'\n",
    "output = widgets.Output()\n",
    "\n",
    "def on_button_clicked(event):\n",
    "    with output:\n",
    "        clear_output()\n",
    "        print(\"Sent message: \")\n",
    "        print(f\"Dear Grandma! This is your favourite {grand.value}, {name.value}.\")\n",
    "        print(f\"I would love to come over on {date.value} for dinner, if that's okay for you!\")\n",
    "        print(f\"Also, if you don't mind, I'll bring along {friends.value} hungry ghosts for your delicious food!\")\n",
    "\n",
    "button_send.on_click(on_button_clicked)\n",
    "\n",
    "vbox_result = widgets.VBox([button_send, output])"
   ]
  },
  {
   "cell_type": "code",
   "execution_count": 10,
   "id": "guilty-ending",
   "metadata": {},
   "outputs": [],
   "source": [
    "# stacked right hand side\n",
    "text_null = widgets.HTML(value=\"<h1 style='color:rgb(223,87,30)'></h1>\")\n",
    "text_0 = widgets.HTML(value=\"<h1 style='color:rgb(223,87,30)'>Book your room</h1>\")\n",
    "text_1 = widgets.HTML(value=\"<h4>This is your favourite hotel.</h2>\")\n",
    "text_3= widgets.HTML(value=\"<h4>Number of nights</h4>\")\n",
    "text_4= widgets.HTML(value=\"<h4>Number of guests </h2>\")\n",
    "text_5= widgets.HTML(value=\"<h2>hungry ghosts for dinner, if that's okay for you!</h2>\")\n",
    "box_layout = Layout(display='flex',\n",
    "                    flex_flow='column',  \n",
    "                    align_items='stretch', \n",
    "                    border='3px solid blue',\n",
    "                    width='33%')\n",
    "vbox_left = widgets.VBox([text_null])\n",
    "vbox_left.layout.display = 'block'\n",
    "vbox_left.layout.flex_flow = 'column'\n",
    "vbox_left.layout.align_items = 'stretch'\n",
    "vbox_left.layout.width='33%'\n",
    "vbox_center = widgets.VBox([text_0, text_1, booking, date,text_3,nights,text_4,guests,button_send])\n",
    "vbox_right = widgets.VBox([text_null])"
   ]
  },
  {
   "cell_type": "code",
   "execution_count": 11,
   "id": "earlier-saturday",
   "metadata": {},
   "outputs": [
    {
     "data": {
      "application/vnd.jupyter.widget-view+json": {
       "model_id": "95e8671eb583446ea6fffc7a24f3ebab",
       "version_major": 2,
       "version_minor": 0
      },
      "text/plain": [
       "HBox(children=(VBox(children=(HTML(value=\"<h1 style='color:rgb(223,87,30)'></h1>\"),), layout=Layout(align_item…"
      ]
     },
     "metadata": {},
     "output_type": "display_data"
    }
   ],
   "source": [
    "page = widgets.HBox([vbox_left,vbox_center,vbox_right])\n",
    "display(page)"
   ]
  },
  {
   "cell_type": "code",
   "execution_count": 12,
   "id": "according-supervisor",
   "metadata": {},
   "outputs": [],
   "source": [
    "#HBox([VBox(list_of_labels), VBox(list_of_sliders)])"
   ]
  },
  {
   "cell_type": "markdown",
   "id": "d57684c2",
   "metadata": {},
   "source": [
    "\n",
    "### Create requirements.txt file for binder"
   ]
  },
  {
   "cell_type": "code",
   "execution_count": 15,
   "id": "8fd29bbb",
   "metadata": {},
   "outputs": [
    {
     "name": "stdout",
     "output_type": "stream",
     "text": [
      "anyio @ file:///C:/ci/anyio_1644481921011/work/dist\n",
      "argon2-cffi @ file:///opt/conda/conda-bld/argon2-cffi_1645000214183/work\n",
      "argon2-cffi-bindings @ file:///C:/ci/argon2-cffi-bindings_1644551690056/work\n",
      "asttokens @ file:///opt/conda/conda-bld/asttokens_1646925590279/work\n",
      "attrs @ file:///C:/b/abs_09s3y775ra/croot/attrs_1668696195628/work\n",
      "Babel==2.12.1\n",
      "backcall @ file:///home/ktietz/src/ci/backcall_1611930011877/work\n",
      "beautifulsoup4 @ file:///C:/b/abs_88es_4clol/croot/beautifulsoup4-split_1680589977077/work\n",
      "bleach @ file:///opt/conda/conda-bld/bleach_1641577558959/work\n",
      "certifi @ file:///C:/b/abs_85o_6fm0se/croot/certifi_1671487778835/work/certifi\n",
      "cffi @ file:///C:/b/abs_49n3v2hyhr/croot/cffi_1670423218144/work\n",
      "charset-normalizer==3.1.0\n",
      "colorama @ file:///C:/b/abs_a9ozq0l032/croot/colorama_1672387194846/work\n",
      "comm @ file:///C:/b/abs_1419earm7u/croot/comm_1671231131638/work\n",
      "debugpy @ file:///C:/ci/debugpy_1637091961445/work\n",
      "decorator @ file:///opt/conda/conda-bld/decorator_1643638310831/work\n",
      "defusedxml @ file:///tmp/build/80754af9/defusedxml_1615228127516/work\n",
      "entrypoints @ file:///C:/ci/entrypoints_1649926621128/work\n",
      "executing @ file:///opt/conda/conda-bld/executing_1646925071911/work\n",
      "fastjsonschema @ file:///C:/Users/BUILDE~1/AppData/Local/Temp/abs_ebruxzvd08/croots/recipe/python-fastjsonschema_1661376484940/work\n",
      "flit_core @ file:///C:/b/abs_eayrusf37u/croot/flit-core_1679397110577/work/source/flit_core\n",
      "idna @ file:///C:/b/abs_bdhbebrioa/croot/idna_1666125572046/work\n",
      "importlib-metadata @ file:///C:/b/abs_20ndzb2j6v/croot/importlib-metadata_1678997085534/work\n",
      "ipykernel @ file:///C:/b/abs_b4f07tbsyd/croot/ipykernel_1672767104060/work\n",
      "ipython @ file:///C:/b/abs_d1yx5tjhli/croot/ipython_1680701887259/work\n",
      "ipython-genutils @ file:///tmp/build/80754af9/ipython_genutils_1606773439826/work\n",
      "ipywidgets==8.0.6\n",
      "jedi @ file:///C:/ci/jedi_1644315428289/work\n",
      "Jinja2 @ file:///C:/b/abs_7cdis66kl9/croot/jinja2_1666908141852/work\n",
      "json5==0.9.11\n",
      "jsonschema @ file:///C:/b/abs_6ccs97j_l8/croot/jsonschema_1676558690963/work\n",
      "jupyter-server @ file:///C:/b/abs_1cfi3__jl8/croot/jupyter_server_1671707636383/work\n",
      "jupyter_client==7.4.1\n",
      "jupyter_core @ file:///C:/b/abs_9d0ttho3bs/croot/jupyter_core_1679906581955/work\n",
      "jupyterlab-pygments @ file:///tmp/build/80754af9/jupyterlab_pygments_1601490720602/work\n",
      "jupyterlab-widgets==3.0.7\n",
      "jupyterlab_server==2.22.0\n",
      "lxml @ file:///C:/b/abs_c2bg6ck92l/croot/lxml_1679646459966/work\n",
      "MarkupSafe @ file:///C:/ci/markupsafe_1654508077284/work\n",
      "matplotlib-inline @ file:///C:/ci/matplotlib-inline_1661915841596/work\n",
      "mistune @ file:///C:/ci/mistune_1607359457024/work\n",
      "nbclassic @ file:///C:/b/abs_3emjirqirt/croot/nbclassic_1680622709631/work\n",
      "nbclient @ file:///C:/ci/nbclient_1650290387259/work\n",
      "nbconvert @ file:///C:/b/abs_4av3q4okro/croot/nbconvert_1668450658054/work\n",
      "nbformat @ file:///C:/b/abs_85_3g7dkt4/croot/nbformat_1670352343720/work\n",
      "nest-asyncio @ file:///C:/b/abs_3a_4jsjlqu/croot/nest-asyncio_1672387322800/work\n",
      "notebook @ file:///C:/b/abs_d4qob69osw/croot/notebook_1680012020838/work\n",
      "notebook_shim @ file:///C:/b/abs_ebfczttg6x/croot/notebook-shim_1668160590914/work\n",
      "packaging @ file:///C:/b/abs_ed_kb9w6g4/croot/packaging_1678965418855/work\n",
      "pandocfilters @ file:///opt/conda/conda-bld/pandocfilters_1643405455980/work\n",
      "parso @ file:///opt/conda/conda-bld/parso_1641458642106/work\n",
      "pickleshare @ file:///tmp/build/80754af9/pickleshare_1606932040724/work\n",
      "platformdirs @ file:///C:/b/abs_73cc5cz_1u/croots/recipe/platformdirs_1662711386458/work\n",
      "prometheus-client @ file:///C:/Windows/TEMP/abs_ab9nx8qb08/croots/recipe/prometheus_client_1659455104602/work\n",
      "prompt-toolkit @ file:///C:/b/abs_6coz5_9f2s/croot/prompt-toolkit_1672387908312/work\n",
      "psutil @ file:///C:/Windows/Temp/abs_b2c2fd7f-9fd5-4756-95ea-8aed74d0039flsd9qufz/croots/recipe/psutil_1656431277748/work\n",
      "pure-eval @ file:///opt/conda/conda-bld/pure_eval_1646925070566/work\n",
      "pycparser @ file:///tmp/build/80754af9/pycparser_1636541352034/work\n",
      "Pygments @ file:///opt/conda/conda-bld/pygments_1644249106324/work\n",
      "pyrsistent @ file:///C:/ci/pyrsistent_1636093225342/work\n",
      "python-dateutil @ file:///tmp/build/80754af9/python-dateutil_1626374649649/work\n",
      "pywin32==305.1\n",
      "pywinpty @ file:///C:/b/abs_73vshmevwq/croot/pywinpty_1677609966356/work/target/wheels/pywinpty-2.0.10-cp39-none-win_amd64.whl\n",
      "pyzmq @ file:///C:/ci/pyzmq_1657615952984/work\n",
      "requests==2.28.2\n",
      "Send2Trash @ file:///tmp/build/80754af9/send2trash_1632406701022/work\n",
      "six @ file:///tmp/build/80754af9/six_1644875935023/work\n",
      "sniffio @ file:///C:/ci/sniffio_1614030527509/work\n",
      "soupsieve @ file:///C:/b/abs_a989exj3q6/croot/soupsieve_1680518492466/work\n",
      "stack-data @ file:///opt/conda/conda-bld/stack_data_1646927590127/work\n",
      "terminado @ file:///C:/b/abs_25nakickad/croot/terminado_1671751845491/work\n",
      "tinycss2 @ file:///C:/b/abs_52w5vfuaax/croot/tinycss2_1668168823131/work\n",
      "tornado @ file:///C:/ci/tornado_1662458743919/work\n",
      "traitlets @ file:///C:/b/abs_e5m_xjjl94/croot/traitlets_1671143896266/work\n",
      "typing_extensions @ file:///C:/b/abs_89eui86zuq/croot/typing_extensions_1669923792806/work\n",
      "urllib3==1.26.15\n",
      "voila==0.4.0\n",
      "wcwidth @ file:///Users/ktietz/demo/mc3/conda-bld/wcwidth_1629357192024/work\n",
      "webencodings==0.5.1\n",
      "websocket-client @ file:///C:/ci/websocket-client_1614804375980/work\n",
      "websockets==11.0.1\n",
      "widgetsnbextension==4.0.7\n",
      "wincertstore==0.2\n",
      "zipp @ file:///C:/b/abs_b9jfdr908q/croot/zipp_1672387552360/work\n"
     ]
    }
   ],
   "source": [
    "#!pip freeze requirements.txt"
   ]
  },
  {
   "cell_type": "code",
   "execution_count": null,
   "id": "9d5bb566",
   "metadata": {},
   "outputs": [],
   "source": []
  }
 ],
 "metadata": {
  "kernelspec": {
   "display_name": "Python 3 (ipykernel)",
   "language": "python",
   "name": "python3"
  },
  "language_info": {
   "codemirror_mode": {
    "name": "ipython",
    "version": 3
   },
   "file_extension": ".py",
   "mimetype": "text/x-python",
   "name": "python",
   "nbconvert_exporter": "python",
   "pygments_lexer": "ipython3",
   "version": "3.9.16"
  }
 },
 "nbformat": 4,
 "nbformat_minor": 5
}
